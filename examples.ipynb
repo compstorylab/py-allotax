{
 "cells": [
  {
   "cell_type": "markdown",
   "metadata": {},
   "source": [
    "# Using the python allotaxonometer"
   ]
  },
  {
   "cell_type": "markdown",
   "metadata": {},
   "source": [
    "Download `example_data` from the repo to run the examples below. You may need to adjust paths based on where you store this data.\n",
    "\n",
    "Examples include:\n",
    "- [Optionally convert data](##Optionally-convert-data)\n",
    "- [Basic usage](##Basic-usage)\n",
    "- [HTML only](##HTML-only)\n",
    "- [Many comparisons](##Many-comparisons)\n",
    "- [Multiprocessing](##Multiprocessing)"
   ]
  },
  {
   "cell_type": "code",
   "execution_count": 1,
   "metadata": {},
   "outputs": [],
   "source": [
    "from itertools import combinations\n",
    "import multiprocessing as mp\n",
    "import os\n",
    "\n",
    "from py_allotax.generate_svg import generate_svg\n",
    "from py_allotax.utils import convert_csv_data, get_rtd"
   ]
  },
  {
   "cell_type": "markdown",
   "metadata": {},
   "source": [
    "## Optionally convert data\n",
    "\n",
    "The `generate_svg` method takes in `.json` files and expects the keys/columns: \"types\", \"counts\", \"totalunique\", \"probs\". If you have `.csv` data (for instance, because the web-app tool requires `.csv`), you can convert it to the expected format using the `convert_data` method."
   ]
  },
  {
   "cell_type": "code",
   "execution_count": 2,
   "metadata": {},
   "outputs": [],
   "source": [
    "convert_csv_data(\"json\", \"example_data/boys_1968.csv\", \"example_data/boys_2018.csv\")\n",
    "# find the files converted to .json files in convert/ directory"
   ]
  },
  {
   "cell_type": "markdown",
   "metadata": {},
   "source": [
    "## Basic usage"
   ]
  },
  {
   "cell_type": "markdown",
   "metadata": {},
   "source": [
    "This example saves the HTML and the PDF\n",
    "\n",
    "Arguments to provide: system 1, system 2, output file name, alpha"
   ]
  },
  {
   "cell_type": "code",
   "execution_count": 3,
   "metadata": {},
   "outputs": [
    {
     "name": "stdout",
     "output_type": "stream",
     "text": [
      "PDF saved to example_charts/notebook_test.pdf\n"
     ]
    }
   ],
   "source": [
    "file_name = \"notebook_test\"\n",
    "\n",
    "generate_svg(\n",
    "    \"example_data/boys_2022.json\",\n",
    "    \"example_data/boys_2023.json\",\n",
    "    f\"example_charts/{file_name}.pdf\",\n",
    "    \"0.17\",\n",
    "    \"Boys 2022\",\n",
    "    \"Boys 2023\"\n",
    ")"
   ]
  },
  {
   "cell_type": "markdown",
   "metadata": {},
   "source": [
    "## HTML only"
   ]
  },
  {
   "cell_type": "markdown",
   "metadata": {},
   "source": [
    "This example saves only the HTML, which can be opened in browser. You can also use the HTML in whichever rendering method you want outside of what's currently available in this package."
   ]
  },
  {
   "cell_type": "code",
   "execution_count": 4,
   "metadata": {},
   "outputs": [
    {
     "name": "stdout",
     "output_type": "stream",
     "text": [
      "HTML saved to example_charts/html_only_test.html\n"
     ]
    }
   ],
   "source": [
    "file_name = \"html_only_test\"\n",
    "\n",
    "generate_svg(\n",
    "    \"example_data/boys_2022.json\",\n",
    "    \"example_data/boys_2023.json\",\n",
    "    f\"example_charts/{file_name}.html\",\n",
    "    \"0.17\",\n",
    "    \"Boys 2022\",\n",
    "    \"Boys 2023\",\n",
    "    \"html\"\n",
    ")"
   ]
  },
  {
   "cell_type": "markdown",
   "metadata": {},
   "source": [
    "## Get the underlying instrument output"
   ]
  },
  {
   "cell_type": "code",
   "execution_count": 6,
   "metadata": {},
   "outputs": [
    {
     "name": "stdout",
     "output_type": "stream",
     "text": [
      "Processing data...\n",
      "RTD + barData (1292/1292 words) saved to /var/folders/xb/yr7ybhzx6sg2hb1smfzmt9wm0000gp/T/tmpp6n5rwid.json\n"
     ]
    },
    {
     "data": {
      "text/html": [
       "<div>\n",
       "<style scoped>\n",
       "    .dataframe tbody tr th:only-of-type {\n",
       "        vertical-align: middle;\n",
       "    }\n",
       "\n",
       "    .dataframe tbody tr th {\n",
       "        vertical-align: top;\n",
       "    }\n",
       "\n",
       "    .dataframe thead th {\n",
       "        text-align: right;\n",
       "    }\n",
       "</style>\n",
       "<table border=\"1\" class=\"dataframe\">\n",
       "  <thead>\n",
       "    <tr style=\"text-align: right;\">\n",
       "      <th></th>\n",
       "      <th>type</th>\n",
       "      <th>rank1</th>\n",
       "      <th>rank2</th>\n",
       "      <th>rank_diff</th>\n",
       "      <th>metric</th>\n",
       "    </tr>\n",
       "  </thead>\n",
       "  <tbody>\n",
       "    <tr>\n",
       "      <th>0</th>\n",
       "      <td>Grover</td>\n",
       "      <td>413.5</td>\n",
       "      <td>20.0</td>\n",
       "      <td>393.5</td>\n",
       "      <td>0.001209</td>\n",
       "    </tr>\n",
       "    <tr>\n",
       "      <th>1</th>\n",
       "      <td>Cleveland</td>\n",
       "      <td>585.0</td>\n",
       "      <td>98.0</td>\n",
       "      <td>487.0</td>\n",
       "      <td>0.000665</td>\n",
       "    </tr>\n",
       "    <tr>\n",
       "      <th>2</th>\n",
       "      <td>Cleve</td>\n",
       "      <td>1175.5</td>\n",
       "      <td>190.5</td>\n",
       "      <td>985.0</td>\n",
       "      <td>0.000612</td>\n",
       "    </tr>\n",
       "    <tr>\n",
       "      <th>3</th>\n",
       "      <td>Dale</td>\n",
       "      <td>1175.5</td>\n",
       "      <td>349.0</td>\n",
       "      <td>826.5</td>\n",
       "      <td>0.000413</td>\n",
       "    </tr>\n",
       "    <tr>\n",
       "      <th>4</th>\n",
       "      <td>Garfield</td>\n",
       "      <td>110.5</td>\n",
       "      <td>286.5</td>\n",
       "      <td>-176.0</td>\n",
       "      <td>-0.000404</td>\n",
       "    </tr>\n",
       "    <tr>\n",
       "      <th>...</th>\n",
       "      <td>...</td>\n",
       "      <td>...</td>\n",
       "      <td>...</td>\n",
       "      <td>...</td>\n",
       "      <td>...</td>\n",
       "    </tr>\n",
       "    <tr>\n",
       "      <th>1287</th>\n",
       "      <td>Guy</td>\n",
       "      <td>68.0</td>\n",
       "      <td>68.0</td>\n",
       "      <td>0.0</td>\n",
       "      <td>0.000000</td>\n",
       "    </tr>\n",
       "    <tr>\n",
       "      <th>1288</th>\n",
       "      <td>Homer</td>\n",
       "      <td>76.0</td>\n",
       "      <td>76.0</td>\n",
       "      <td>0.0</td>\n",
       "      <td>0.000000</td>\n",
       "    </tr>\n",
       "    <tr>\n",
       "      <th>1289</th>\n",
       "      <td>Virgil</td>\n",
       "      <td>163.5</td>\n",
       "      <td>163.5</td>\n",
       "      <td>0.0</td>\n",
       "      <td>0.000000</td>\n",
       "    </tr>\n",
       "    <tr>\n",
       "      <th>1290</th>\n",
       "      <td>Forest</td>\n",
       "      <td>309.0</td>\n",
       "      <td>309.0</td>\n",
       "      <td>0.0</td>\n",
       "      <td>0.000000</td>\n",
       "    </tr>\n",
       "    <tr>\n",
       "      <th>1291</th>\n",
       "      <td>Wayne</td>\n",
       "      <td>359.0</td>\n",
       "      <td>359.0</td>\n",
       "      <td>0.0</td>\n",
       "      <td>0.000000</td>\n",
       "    </tr>\n",
       "  </tbody>\n",
       "</table>\n",
       "<p>1292 rows × 5 columns</p>\n",
       "</div>"
      ],
      "text/plain": [
       "           type   rank1  rank2  rank_diff    metric\n",
       "0        Grover   413.5   20.0      393.5  0.001209\n",
       "1     Cleveland   585.0   98.0      487.0  0.000665\n",
       "2         Cleve  1175.5  190.5      985.0  0.000612\n",
       "3          Dale  1175.5  349.0      826.5  0.000413\n",
       "4      Garfield   110.5  286.5     -176.0 -0.000404\n",
       "...         ...     ...    ...        ...       ...\n",
       "1287        Guy    68.0   68.0        0.0  0.000000\n",
       "1288      Homer    76.0   76.0        0.0  0.000000\n",
       "1289     Virgil   163.5  163.5        0.0  0.000000\n",
       "1290     Forest   309.0  309.0        0.0  0.000000\n",
       "1291      Wayne   359.0  359.0        0.0  0.000000\n",
       "\n",
       "[1292 rows x 5 columns]"
      ]
     },
     "execution_count": 6,
     "metadata": {},
     "output_type": "execute_result"
    }
   ],
   "source": [
    "result = get_rtd(\"example_data/boys_2022.json\", \"example_data/boys_2023.json\", \"0.17\", top_n=0) # all words\n",
    "rtd = result['rtd']\n",
    "words_df = result['words_df']  # columns: type, rank_diff, metric\n",
    "words_df"
   ]
  },
  {
   "cell_type": "markdown",
   "metadata": {},
   "source": [
    "## Many comparisons"
   ]
  },
  {
   "cell_type": "markdown",
   "metadata": {},
   "source": [
    "This example follows the idea of running many system comparisons to create a 'flipbook'. This is useful for visualizing the differences, for example, over years, over many systems, etc.\n",
    "\n",
    "You would likely have a folder with many data files, and you would loop through them to create the comparisons. We will use `convert/` to demonstrate this."
   ]
  },
  {
   "cell_type": "code",
   "execution_count": 7,
   "metadata": {},
   "outputs": [
    {
     "name": "stdout",
     "output_type": "stream",
     "text": [
      "[(1968, 2018), (1968, 2022), (1968, 2023), (2018, 2022), (2018, 2023), (2022, 2023)]\n"
     ]
    }
   ],
   "source": [
    "years = [1968, 2018, 2022, 2023]\n",
    "\n",
    "# compare each (we could add some logic to specify a different alpha for each comparison)\n",
    "yr_combos = list(combinations(years, 2))\n",
    "print(yr_combos)"
   ]
  },
  {
   "cell_type": "code",
   "execution_count": 8,
   "metadata": {},
   "outputs": [
    {
     "name": "stdout",
     "output_type": "stream",
     "text": [
      "PDF saved to example_charts/boys_1968_2018.pdf\n",
      "PDF saved to example_charts/boys_1968_2022.pdf\n",
      "PDF saved to example_charts/boys_1968_2023.pdf\n",
      "PDF saved to example_charts/boys_2018_2022.pdf\n",
      "PDF saved to example_charts/boys_2018_2023.pdf\n",
      "PDF saved to example_charts/boys_2022_2023.pdf\n"
     ]
    }
   ],
   "source": [
    "# Will take ~40 seconds to run\n",
    "\n",
    "for comparison in yr_combos:\n",
    "    system1 = comparison[0]\n",
    "    system2 = comparison[1]\n",
    "    generate_svg(\n",
    "        f\"example_data/boys_{system1}.json\",\n",
    "        f\"example_data/boys_{system2}.json\",\n",
    "        f\"example_charts/boys_{system1}_{system2}.pdf\",\n",
    "        \"0.17\",\n",
    "        f\"Boys {system1}\",\n",
    "        f\"Boys {system2}\"\n",
    "    )"
   ]
  },
  {
   "cell_type": "markdown",
   "metadata": {},
   "source": [
    "## Multiprocessing"
   ]
  },
  {
   "cell_type": "markdown",
   "metadata": {},
   "source": [
    "This example demonstrates how to use multiprocessing to speed up the comparison of many systems (assuming your machine has available computing resources). If unfamiliar, multiprocessing lets you speed up tasks that can be divided into independent parts. In this case, each system comparison is an independent process that can be run parallel to the others. Note that this will use more memory on your machine, so be sure to have enough available or close down other programs. \n",
    "\n",
    "We use the same example above and different alphas to demonstrate creating an arglist for all the combinations we want to test. Think of it as specifying each different variable in a simulation."
   ]
  },
  {
   "cell_type": "code",
   "execution_count": 9,
   "metadata": {},
   "outputs": [
    {
     "name": "stdout",
     "output_type": "stream",
     "text": [
      "Number of available CPUs: 10\n",
      "PDF saved to example_charts/boys_1968_2023_0.6667.pdf\n",
      "PDF saved to example_charts/boys_1968_2023_0.17.pdf\n",
      "PDF saved to example_charts/boys_1968_2022_0.6667.pdf\n",
      "PDF saved to example_charts/boys_1968_2022_0.17.pdf\n",
      "PDF saved to example_charts/boys_2022_2023_0.17.pdf\n",
      "PDF saved to example_charts/boys_2022_2023_0.6667.pdf\n",
      "PDF saved to example_charts/boys_2018_2023_0.17.pdf\n",
      "PDF saved to example_charts/boys_2018_2022_0.6667.pdf\n",
      "PDF saved to example_charts/boys_1968_2018_0.6667.pdf\n",
      "PDF saved to example_charts/boys_1968_2018_0.17.pdf\n",
      "PDF saved to example_charts/boys_2018_2023_0.6667.pdf\n",
      "PDF saved to example_charts/boys_2018_2022_0.17.pdf\n"
     ]
    }
   ],
   "source": [
    "# Get the number of available CPUs\n",
    "n_processes = os.cpu_count()\n",
    "print(\"Number of available CPUs:\", n_processes)\n",
    "\n",
    "# Create a list of all combinations of parameters (list of lists--1 per function call)\n",
    "arglist = []\n",
    "for combo in yr_combos:\n",
    "    for alpha in [\"0.17\", \"0.6667\"]:\n",
    "        # Append all required args for the method to the arglist\n",
    "        system1 = f\"example_data/boys_{combo[0]}.json\"\n",
    "        system2 = f\"example_data/boys_{combo[1]}.json\"\n",
    "        arglist.append(\n",
    "            (system1,\n",
    "             system2,\n",
    "             f\"example_charts/boys_{combo[0]}_{combo[1]}_{alpha}.pdf\",\n",
    "             alpha,\n",
    "             f\"Boys {combo[0]}\",\n",
    "             f\"Boys {combo[1]}\")\n",
    "        )\n",
    "\n",
    "# Will take ~14 seconds to run (on 10 CPUs); note the print statements may not be in order\n",
    "with mp.Pool(processes=n_processes) as pool:\n",
    "    # Run the method\n",
    "    pool.starmap(generate_svg, arglist)"
   ]
  },
  {
   "cell_type": "code",
   "execution_count": null,
   "metadata": {},
   "outputs": [],
   "source": []
  }
 ],
 "metadata": {
  "kernelspec": {
   "display_name": "py-allotax",
   "language": "python",
   "name": "python3"
  },
  "language_info": {
   "codemirror_mode": {
    "name": "ipython",
    "version": 3
   },
   "file_extension": ".py",
   "mimetype": "text/x-python",
   "name": "python",
   "nbconvert_exporter": "python",
   "pygments_lexer": "ipython3",
   "version": "3.11.11"
  }
 },
 "nbformat": 4,
 "nbformat_minor": 2
}
